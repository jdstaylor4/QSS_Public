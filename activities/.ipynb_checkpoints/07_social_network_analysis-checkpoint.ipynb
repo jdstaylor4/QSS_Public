{
 "cells": [
  {
   "cell_type": "code",
   "execution_count": null,
   "id": "113992d2",
   "metadata": {},
   "outputs": [],
   "source": [
    "import networkx as nx\n",
    "import pandas as pd\n",
    "import matplotlib.pyplot as plt\n",
    "import urllib, json\n",
    "\n",
    "from nltk.sentiment.vader import SentimentIntensityAnalyzer\n",
    "\n",
    "from IPython.core.interactiveshell import InteractiveShell\n",
    "InteractiveShell.ast_node_interactivity = \"all\""
   ]
  },
  {
   "cell_type": "markdown",
   "id": "d401cf83",
   "metadata": {},
   "source": [
    "# Introduction to Networkx"
   ]
  },
  {
   "cell_type": "markdown",
   "id": "48c66330",
   "metadata": {},
   "source": [
    "The simple methods '.nodes()' and '.edges()' print the key components of the network."
   ]
  },
  {
   "cell_type": "code",
   "execution_count": null,
   "id": "7d1caaa3",
   "metadata": {},
   "outputs": [],
   "source": [
    "HG = nx.house_graph()\n",
    "HG.nodes()\n",
    "HG.edges()"
   ]
  },
  {
   "cell_type": "markdown",
   "id": "8da96be2",
   "metadata": {},
   "source": [
    "## Drawing the network"
   ]
  },
  {
   "cell_type": "markdown",
   "id": "0fab5fe1",
   "metadata": {},
   "source": [
    "To draw the network, we need to give it a dictionary that maps each node to an X-Y coordinate. I give one below."
   ]
  },
  {
   "cell_type": "code",
   "execution_count": null,
   "id": "7950d058",
   "metadata": {},
   "outputs": [],
   "source": [
    "pos = {0: (0, 0), 1: (1, 0), 2: (0, 1), 3: (1, 1), 4: (0.5, 2.0)}\n",
    "\n",
    "nx.draw_networkx_nodes(\n",
    "    HG, pos, node_size=3000, nodelist=[0, 1, 2, 3], \n",
    "    node_color=\"tab:blue\"\n",
    ")\n",
    "\n",
    "nx.draw_networkx_nodes(HG, pos, node_size=2000, \n",
    "                       nodelist=[4], node_color=\"tab:orange\")\n",
    "\n",
    "nx.draw_networkx_edges(HG, pos, alpha=1, width=6)\n",
    "nx.draw_networkx_labels(HG, pos, font_size=20)\n",
    "plt.tight_layout()\n",
    "plt.axis(\"off\")"
   ]
  },
  {
   "cell_type": "code",
   "execution_count": null,
   "id": "f00a55b2",
   "metadata": {},
   "outputs": [],
   "source": [
    "ADJ = nx.to_pandas_adjacency(HG)\n",
    "ADJ"
   ]
  },
  {
   "cell_type": "code",
   "execution_count": null,
   "id": "0b3e4171",
   "metadata": {},
   "outputs": [],
   "source": [
    "deg_0 = nx.degree(HG, 0) \n",
    "deg_0"
   ]
  },
  {
   "cell_type": "markdown",
   "id": "4ad6f9d5",
   "metadata": {},
   "source": [
    "# Activity\n",
    "We will learn how to process a dataframe into a useable edgelist to feed into a graph."
   ]
  },
  {
   "cell_type": "code",
   "execution_count": null,
   "id": "44c29ace",
   "metadata": {},
   "outputs": [],
   "source": [
    "df = pd.read_pickle(\"../public_data/Raw_Tweets.pkl\") # Load your tweets\n",
    "df.head()\n",
    "df.shape"
   ]
  },
  {
   "cell_type": "markdown",
   "id": "baa88588",
   "metadata": {},
   "source": [
    "### 1.1 Subset the dataframe to network data"
   ]
  },
  {
   "cell_type": "markdown",
   "id": "aae6c436",
   "metadata": {},
   "source": [
    "- First, using .value_counts(), identify how many types of tweets there are, using the tweet_type column. \n",
    "- Then, filter out all tweets that are not \"retweeted_tweet_without_comment\" and \"quoted_tweet.\""
   ]
  },
  {
   "cell_type": "code",
   "execution_count": null,
   "id": "349dfe90",
   "metadata": {},
   "outputs": [],
   "source": [
    "# your code here"
   ]
  },
  {
   "cell_type": "code",
   "execution_count": null,
   "id": "65764352",
   "metadata": {},
   "outputs": [],
   "source": [
    "## Run this. Why is it empty?\n",
    "df[(df.tweet_type == \"retweeted_tweet_without_comment\") & (df.tweet_type == \"quoted_tweet\")]"
   ]
  },
  {
   "cell_type": "markdown",
   "id": "2ab92df8",
   "metadata": {},
   "source": [
    "### 1.2 Create an edgelist"
   ]
  },
  {
   "cell_type": "markdown",
   "id": "31f08008",
   "metadata": {},
   "source": [
    "The \"userid\" column shows the person that did the retweeting. Create a new column called \"userid2\" that denotes the user retweeted. You will need to use the columns \"rt_userid\" and \"qtd_userid.\""
   ]
  },
  {
   "cell_type": "code",
   "execution_count": null,
   "id": "1a911f8e",
   "metadata": {},
   "outputs": [],
   "source": [
    "# your code here"
   ]
  },
  {
   "cell_type": "markdown",
   "id": "7ae608f7",
   "metadata": {},
   "source": [
    "### 1.3 Sentiment scoring. \n",
    "- Now, use SentimentIntensityAnalyzer to label the sentiment of the text, in a new column called \"weight.\" \n",
    "- The subset the dataframe to only have \"userid\", \"user2\", and \"weight\". \n",
    "- Rename \"userid\" to \"user1\", then group by \"user1\" and \"user2\", to find the mean sentiment (mean weight).\n",
    "\n",
    "You now have your first edgelist!"
   ]
  },
  {
   "cell_type": "code",
   "execution_count": null,
   "id": "8512cedc",
   "metadata": {},
   "outputs": [],
   "source": [
    "# your code here"
   ]
  },
  {
   "cell_type": "code",
   "execution_count": null,
   "id": "a5af0593",
   "metadata": {},
   "outputs": [],
   "source": []
  },
  {
   "cell_type": "markdown",
   "id": "10a75833",
   "metadata": {},
   "source": [
    "# Netwulf Visualization\n",
    "#### If you don't have the module, pip install netwulf\n",
    "#### https://netwulf.readthedocs.io/en/latest/about.html"
   ]
  },
  {
   "cell_type": "code",
   "execution_count": null,
   "id": "a5c8a921",
   "metadata": {},
   "outputs": [],
   "source": [
    "EL =  pd.read_pickle(\"../public_data/edge_list_final2.pkl\")"
   ]
  },
  {
   "cell_type": "code",
   "execution_count": null,
   "id": "788160e3",
   "metadata": {},
   "outputs": [],
   "source": [
    "G = nx.Graph() # Creates a graph object\n",
    "G.add_edges_from( EL[[\"user1\",\"user2\"]].values ) # Adds edges (and hence nodes from the edgelist)\n",
    "\n",
    "# Creates the biggest subgraph\n",
    "CC_nodes = list( nx.connected_components(G) )[0] # Generates a list of connected components, extracts the largest\n",
    "GG = nx.subgraph(G, CC_nodes) # Creates the subgraph of the largest CC"
   ]
  },
  {
   "cell_type": "code",
   "execution_count": null,
   "id": "e03a6ab4",
   "metadata": {},
   "outputs": [],
   "source": [
    "from netwulf import visualize\n",
    "import netwulf as nw"
   ]
  },
  {
   "cell_type": "code",
   "execution_count": null,
   "id": "7b335eb3",
   "metadata": {},
   "outputs": [],
   "source": [
    "stylized_network, config = visualize(GG,)"
   ]
  },
  {
   "cell_type": "code",
   "execution_count": null,
   "id": "cdb9576f",
   "metadata": {},
   "outputs": [],
   "source": [
    "U = pd.read_pickle(\"../public_data/UserInfo.pkl\")\n",
    "id2color = dict(zip(U.userid.values, U.PlotColor.values))\n",
    "for k, v in GG.nodes(data=True):\n",
    "    v[\"group\"] = id2color[k]"
   ]
  },
  {
   "cell_type": "code",
   "execution_count": null,
   "id": "c7a09bcb",
   "metadata": {},
   "outputs": [],
   "source": [
    "stylized_network, config = visualize(GG,port=2000)"
   ]
  },
  {
   "cell_type": "markdown",
   "id": "08054b73",
   "metadata": {},
   "source": [
    "### Activity Two\n",
    "- Create a new column in U called \"Degree,\" which denotes the degree of the node (userid). You will want to use G.degree()[n] where n is the userid.\n",
    "- Group by User Type. Which group was the most popular during the pandemic?"
   ]
  },
  {
   "cell_type": "code",
   "execution_count": null,
   "id": "f69cf8ca",
   "metadata": {},
   "outputs": [],
   "source": [
    "# your code here."
   ]
  },
  {
   "cell_type": "code",
   "execution_count": null,
   "id": "00cd3aed",
   "metadata": {},
   "outputs": [],
   "source": []
  },
  {
   "cell_type": "code",
   "execution_count": null,
   "id": "2d53b2d7",
   "metadata": {},
   "outputs": [],
   "source": []
  }
 ],
 "metadata": {
  "kernelspec": {
   "display_name": "Python 3 (ipykernel)",
   "language": "python",
   "name": "python3"
  },
  "language_info": {
   "codemirror_mode": {
    "name": "ipython",
    "version": 3
   },
   "file_extension": ".py",
   "mimetype": "text/x-python",
   "name": "python",
   "nbconvert_exporter": "python",
   "pygments_lexer": "ipython3",
   "version": "3.9.12"
  }
 },
 "nbformat": 4,
 "nbformat_minor": 5
}
